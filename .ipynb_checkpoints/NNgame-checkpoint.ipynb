{
 "cells": [
  {
   "cell_type": "code",
   "execution_count": null,
   "metadata": {},
   "outputs": [],
   "source": [
    "#First application of my nn module for training an agent to play cartpole\n",
    "#url reference: https://pythonprogramming.net/openai-cartpole-neural-network-example-machine-learning-tutorial/\n"
   ]
  },
  {
   "cell_type": "code",
   "execution_count": 1,
   "metadata": {},
   "outputs": [],
   "source": [
    "import numpy as np\n",
    "import pandas as pd\n",
    "from sklearn import preprocessing\n",
    "import gym\n",
    "import random\n",
    "from statistics import median, mean\n",
    "from collections import Counter\n",
    "\n",
    "from nnCode import * #my neural network module\n",
    "\n"
   ]
  },
  {
   "cell_type": "code",
   "execution_count": 2,
   "metadata": {},
   "outputs": [],
   "source": [
    "#Data loading and preprocessing...\n",
    "train = pd.read_csv(\"mnist_train.csv\", delimiter= \",\")\n",
    "X = train.iloc[:, 1:]\n",
    "y = train.iloc[:, 0]\n",
    "\n",
    "#Loading test set\n",
    "test = pd.read_csv(\"mnist_test.csv\", delimiter= \",\")\n",
    "x_test = test.iloc[:, 1:]\n",
    "y_test = test.iloc[:, 0]\n",
    "\n",
    "# scaler = preprocessing.StandardScaler().fit(X)\n",
    "\n",
    "# X = scaler.transform(X)\n",
    "# test_X = scaler.transform( test_X )\n",
    "\n",
    "scaler = preprocessing.StandardScaler()\n",
    "X = scaler.fit_transform( X )\n",
    "x_test = scaler.transform(x_test)\n"
   ]
  },
  {
   "cell_type": "code",
   "execution_count": 3,
   "metadata": {},
   "outputs": [],
   "source": [
    "#Training...\n",
    "\n",
    "#sizes2 = [784,100, 10]\n",
    "# EPOCHS = 50\n",
    "# #sizes2 = [4, 5,  3]\n",
    "# net = Dense(sizes2, activations = [Sigmoid(), Softmax()], Loss = CategoricalCrossEntropyLoss(),\n",
    "#             epochs = EPOCHS, metric = Accuracy(), learning_rate = 0.95)\n",
    "#net = Dense(sizes2, activations = [Sigmoid(), Softmax()], Loss = MSE(),\n",
    "            #epochs = EPOCHS, metric = Accuracy(), learning_rate = 0.07)\n",
    "#net.train(X,y)\n",
    "\n",
    "#net.SGD(X , np.array(y), x_test, y_test, minibatch_size = 10)\n",
    "#net.SGD(X[:10000] , y[:10000], x_test, y_test, minibatch_size = 10)"
   ]
  },
  {
   "cell_type": "code",
   "execution_count": 4,
   "metadata": {},
   "outputs": [
    {
     "data": {
      "text/plain": [
       "array([ 0.01552566, -0.01280744, -0.02834357,  0.02282572], dtype=float32)"
      ]
     },
     "execution_count": 4,
     "metadata": {},
     "output_type": "execute_result"
    }
   ],
   "source": [
    "import matplotlib.pyplot as plt\n",
    "import gym\n",
    "from IPython import display\n",
    "%matplotlib inline\n",
    "\n",
    "env = gym.make('CartPole-v0')\n",
    "env.reset()\n",
    "\n",
    "# for i in range(50):\n",
    "#    plt.imshow(env.render(mode='rgb_array'))\n",
    "#    display.display(plt.gcf())    \n",
    "#    display.clear_output(wait=True)\n",
    "#    env.step(env.action_space.sample()) # take a random action\n",
    "\n",
    "# env.close()"
   ]
  },
  {
   "cell_type": "code",
   "execution_count": 5,
   "metadata": {},
   "outputs": [],
   "source": [
    "LR = 1e-3\n",
    "env = gym.make(\"CartPole-v0\")\n",
    "env.reset()\n",
    "goal_steps = 500\n",
    "score_requirement = 50\n",
    "initial_games = 10000\n",
    "\n",
    "def initial_population():\n",
    "    # [OBS, MOVES]\n",
    "    training_data = []\n",
    "    # all scores:\n",
    "    scores = []\n",
    "    # just the scores that met our threshold:\n",
    "    accepted_scores = []\n",
    "    # iterate through however many games we want:\n",
    "    for _ in range(initial_games):\n",
    "        score = 0\n",
    "        # moves specifically from this environment:\n",
    "        game_memory = []\n",
    "        # previous observation that we saw\n",
    "        prev_observation = []\n",
    "        # for each frame in 200\n",
    "        for _ in range(goal_steps):\n",
    "            # choose random action (0 or 1)\n",
    "            action = random.randrange(0,2)\n",
    "            # do it!\n",
    "            observation, reward, done, info = env.step(action)\n",
    "            \n",
    "            # notice that the observation is returned FROM the action\n",
    "            # so we'll store the previous observation here, pairing\n",
    "            # the prev observation to the action we'll take.\n",
    "            if len(prev_observation) > 0 :\n",
    "                game_memory.append([prev_observation, action])\n",
    "            prev_observation = observation\n",
    "            score+=reward\n",
    "            if done: break\n",
    "\n",
    "        # IF our score is higher than our threshold, we'd like to save\n",
    "        # every move we made\n",
    "        # NOTE the reinforcement methodology here. \n",
    "        # all we're doing is reinforcing the score, we're not trying \n",
    "        # to influence the machine in any way as to HOW that score is \n",
    "        # reached.\n",
    "        if score >= score_requirement:\n",
    "            accepted_scores.append(score)\n",
    "            for data in game_memory:\n",
    "                # convert to one-hot (this is the output layer for our neural network)\n",
    "                if data[1] == 1:\n",
    "                    output = [0,1]\n",
    "                elif data[1] == 0:\n",
    "                    output = [1,0]\n",
    "                    \n",
    "                # saving our training data\n",
    "                training_data.append([data[0], output])\n",
    "\n",
    "        # reset env to play again\n",
    "        env.reset()\n",
    "        # save overall scores\n",
    "        scores.append(score)\n",
    "    \n",
    "    # just in case you wanted to reference later\n",
    "    training_data_save = np.array(training_data)\n",
    "    np.save('saved.npy',training_data_save)\n",
    "    \n",
    "    # some stats here, to further illustrate the neural network magic!\n",
    "    print('Average accepted score:',mean(accepted_scores))\n",
    "    print('Median score for accepted scores:',median(accepted_scores))\n",
    "    print(Counter(accepted_scores))\n",
    "    \n",
    "    return training_data"
   ]
  },
  {
   "cell_type": "code",
   "execution_count": 6,
   "metadata": {},
   "outputs": [
    {
     "name": "stdout",
     "output_type": "stream",
     "text": [
      "Average accepted score: 61.68382352941177\n",
      "Median score for accepted scores: 58.0\n",
      "Counter({50.0: 37, 52.0: 35, 51.0: 30, 56.0: 24, 53.0: 21, 59.0: 19, 54.0: 18, 57.0: 17, 62.0: 16, 66.0: 16, 63.0: 16, 58.0: 15, 60.0: 14, 64.0: 11, 55.0: 11, 61.0: 9, 67.0: 8, 71.0: 8, 74.0: 7, 65.0: 7, 72.0: 6, 78.0: 6, 80.0: 5, 92.0: 4, 84.0: 4, 81.0: 3, 76.0: 3, 87.0: 3, 70.0: 3, 68.0: 3, 69.0: 3, 75.0: 2, 105.0: 2, 96.0: 2, 95.0: 2, 73.0: 2, 94.0: 2, 79.0: 2, 98.0: 1, 100.0: 1, 89.0: 1, 86.0: 1, 83.0: 1, 90.0: 1, 99.0: 1, 88.0: 1, 117.0: 1, 82.0: 1, 85.0: 1, 139.0: 1})\n"
     ]
    },
    {
     "name": "stderr",
     "output_type": "stream",
     "text": [
      "C:\\Users\\malfaro\\Anaconda3\\lib\\site-packages\\ipykernel_launcher.py:62: VisibleDeprecationWarning: Creating an ndarray from ragged nested sequences (which is a list-or-tuple of lists-or-tuples-or ndarrays with different lengths or shapes) is deprecated. If you meant to do this, you must specify 'dtype=object' when creating the ndarray\n"
     ]
    }
   ],
   "source": [
    "training_data = initial_population()\n"
   ]
  },
  {
   "cell_type": "code",
   "execution_count": 7,
   "metadata": {},
   "outputs": [],
   "source": [
    "EPOCHS = 50\n",
    "sizes_game = [4,128,2]\n",
    "net = Dense(sizes_game, activations = [Sigmoid(), Softmax()], Loss = CategoricalCrossEntropyLoss(),\n",
    "            epochs = EPOCHS, metric = Accuracy(), learning_rate = LR)"
   ]
  },
  {
   "cell_type": "code",
   "execution_count": 8,
   "metadata": {},
   "outputs": [],
   "source": [
    "X = np.array([i[0] for i in training_data])\n",
    "y = np.array([i[1] for i in training_data])\n",
    "    "
   ]
  },
  {
   "cell_type": "code",
   "execution_count": 9,
   "metadata": {},
   "outputs": [
    {
     "data": {
      "text/plain": [
       "(24759, 4)"
      ]
     },
     "execution_count": 9,
     "metadata": {},
     "output_type": "execute_result"
    }
   ],
   "source": [
    "X.shape"
   ]
  },
  {
   "cell_type": "code",
   "execution_count": 10,
   "metadata": {},
   "outputs": [
    {
     "data": {
      "text/plain": [
       "array([[1, 0],\n",
       "       [1, 0]])"
      ]
     },
     "execution_count": 10,
     "metadata": {},
     "output_type": "execute_result"
    }
   ],
   "source": [
    "y[:2]"
   ]
  },
  {
   "cell_type": "code",
   "execution_count": 11,
   "metadata": {},
   "outputs": [
    {
     "data": {
      "text/plain": [
       "array([[0.39940923, 0.60059077],\n",
       "       [0.07234448, 0.92765552]])"
      ]
     },
     "execution_count": 11,
     "metadata": {},
     "output_type": "execute_result"
    }
   ],
   "source": [
    "net.forward(X[:2])\n",
    "net.activated_layers[-1]"
   ]
  },
  {
   "cell_type": "code",
   "execution_count": 12,
   "metadata": {},
   "outputs": [
    {
     "data": {
      "text/plain": [
       "0.0"
      ]
     },
     "execution_count": 12,
     "metadata": {},
     "output_type": "execute_result"
    }
   ],
   "source": [
    "net.metric.get_accuracy(net.activated_layers[-1],y[:2] )"
   ]
  },
  {
   "cell_type": "code",
   "execution_count": 14,
   "metadata": {},
   "outputs": [
    {
     "data": {
      "text/plain": [
       "array([1, 0], dtype=int64)"
      ]
     },
     "execution_count": 14,
     "metadata": {},
     "output_type": "execute_result"
    }
   ],
   "source": [
    "np.argmax([[0,1], [1,0]], axis = 1)"
   ]
  },
  {
   "cell_type": "code",
   "execution_count": 15,
   "metadata": {},
   "outputs": [
    {
     "name": "stderr",
     "output_type": "stream",
     "text": [
      "C:\\Users\\malfaro\\Anaconda3\\lib\\site-packages\\ipykernel_launcher.py:1: VisibleDeprecationWarning: Creating an ndarray from ragged nested sequences (which is a list-or-tuple of lists-or-tuples-or ndarrays with different lengths or shapes) is deprecated. If you meant to do this, you must specify 'dtype=object' when creating the ndarray\n",
      "  \"\"\"Entry point for launching an IPython kernel.\n"
     ]
    },
    {
     "data": {
      "text/plain": [
       "array([array([ 0.03407262,  0.16758148,  0.0140113 , -0.3131834 ], dtype=float32),\n",
       "       list([1, 0])], dtype=object)"
      ]
     },
     "execution_count": 15,
     "metadata": {},
     "output_type": "execute_result"
    }
   ],
   "source": [
    "np.array(training_data)[0]"
   ]
  },
  {
   "cell_type": "code",
   "execution_count": 16,
   "metadata": {},
   "outputs": [],
   "source": [
    "#sklearn split\n",
    "from sklearn.model_selection import train_test_split"
   ]
  },
  {
   "cell_type": "code",
   "execution_count": 17,
   "metadata": {},
   "outputs": [],
   "source": [
    "X_train, X_test, y_train, y_test = train_test_split(X, y, test_size=0.33, random_state=42)\n",
    "scaler = preprocessing.StandardScaler()\n",
    "X_train= scaler.fit_transform( X_train )\n",
    "X_test = scaler.transform(X_test)"
   ]
  },
  {
   "cell_type": "code",
   "execution_count": 40,
   "metadata": {},
   "outputs": [],
   "source": [
    "sizes_game = [4,128,256,128, 2]\n",
    "LR = 0.05\n",
    "EPOCHS = 5000\n",
    "net = Dense(sizes_game, activations = [Sigmoid(), Sigmoid(),Sigmoid(), Softmax()],\n",
    "            Loss = CategoricalCrossEntropyLoss(),\n",
    "            epochs = EPOCHS, metric = Accuracy(), learning_rate = LR)"
   ]
  },
  {
   "cell_type": "code",
   "execution_count": 41,
   "metadata": {},
   "outputs": [
    {
     "name": "stdout",
     "output_type": "stream",
     "text": [
      "SGD Training......\n",
      "Average Error epoch 10: 0.6764989959393733---Average Accuracy: 0.5893309222423146\n",
      "Accuracy in test set: 0.5349406437400563\n",
      "Average Error epoch 20: 0.6753374203200009---Average Accuracy: 0.6001205545509343\n",
      "Accuracy in test set: 0.5971117366295435\n",
      "Average Error epoch 30: 0.6776048905255362---Average Accuracy: 0.591922845087402\n",
      "Accuracy in test set: 0.5028760249663444\n",
      "Average Error epoch 40: 0.6758419922261197---Average Accuracy: 0.5989150090415912\n",
      "Accuracy in test set: 0.6042100110145637\n",
      "Average Error epoch 50: 0.6750063770713711---Average Accuracy: 0.6012658227848101\n",
      "Accuracy in test set: 0.6026190184799902\n",
      "Average Error epoch 60: 0.6753982257779698---Average Accuracy: 0.5998191681735985\n",
      "Accuracy in test set: 0.6026190184799902\n",
      "Average Error epoch 70: 0.6748647405993873---Average Accuracy: 0.6015069318866787\n",
      "Accuracy in test set: 0.6042100110145637\n",
      "Average Error epoch 80: 0.6748401329552314---Average Accuracy: 0.6018083182640145\n",
      "Accuracy in test set: 0.6032309386855954\n",
      "Average Error epoch 90: 0.6743968904244726---Average Accuracy: 0.6019891500904159\n",
      "Accuracy in test set: 0.6024966344388691\n",
      "Average Error epoch 100: 0.674309312387126---Average Accuracy: 0.6022302591922845\n",
      "Accuracy in test set: 0.6023742503977482\n",
      "Average Error epoch 110: 0.6742830674188873---Average Accuracy: 0.6021097046413502\n",
      "Accuracy in test set: 0.6035980908089585\n",
      "Average Error epoch 120: 0.6743223531308772---Average Accuracy: 0.6021699819168174\n",
      "Accuracy in test set: 0.6024966344388691\n",
      "Average Error epoch 130: 0.6745755539099698---Average Accuracy: 0.6023508137432187\n",
      "Accuracy in test set: 0.602129482315506\n",
      "Average Error epoch 140: 0.6743652322872636---Average Accuracy: 0.6026522001205545\n",
      "Accuracy in test set: 0.6026190184799902\n",
      "Average Error epoch 150: 0.6754136489396304---Average Accuracy: 0.6010247136829415\n",
      "Accuracy in test set: 0.6029861706033534\n",
      "Average Error epoch 160: 0.6745438511699463---Average Accuracy: 0.6015672091621459\n",
      "Accuracy in test set: 0.6039652429323217\n",
      "Average Error epoch 170: 0.6794878076340429---Average Accuracy: 0.5921639541892706\n",
      "Accuracy in test set: 0.6031085546444743\n",
      "Average Error epoch 180: 0.6787256815336288---Average Accuracy: 0.595177817962628\n",
      "Accuracy in test set: 0.6038428588912006\n",
      "Average Error epoch 190: 0.678889225453107---Average Accuracy: 0.5944544906570224\n",
      "Accuracy in test set: 0.6040876269734426\n",
      "Average Error epoch 200: 0.6787891169835684---Average Accuracy: 0.5946955997588909\n",
      "Accuracy in test set: 0.6042100110145637\n",
      "Average Error epoch 210: 0.6787405443617925---Average Accuracy: 0.5955997588908981\n",
      "Accuracy in test set: 0.6044547790968058\n",
      "Average Error epoch 220: 0.67862962551469---Average Accuracy: 0.5956600361663652\n",
      "Accuracy in test set: 0.6048219312201689\n",
      "Average Error epoch 230: 0.6787204363370698---Average Accuracy: 0.5954189270644966\n",
      "Accuracy in test set: 0.6049443152612899\n",
      "Average Error epoch 240: 0.6788591272690219---Average Accuracy: 0.5954189270644966\n",
      "Accuracy in test set: 0.6049443152612899\n",
      "Average Error epoch 250: 0.6789807522662246---Average Accuracy: 0.5951175406871609\n",
      "Accuracy in test set: 0.6048219312201689\n",
      "Average Error epoch 260: 0.6790502048506085---Average Accuracy: 0.5949969861362265\n",
      "Accuracy in test set: 0.6055562354668951\n",
      "Average Error epoch 270: 0.6790499534892226---Average Accuracy: 0.5954189270644966\n",
      "Accuracy in test set: 0.6054338514257741\n",
      "Average Error epoch 280: 0.6791355404118911---Average Accuracy: 0.5950572634116938\n",
      "Accuracy in test set: 0.6054338514257741\n",
      "Average Error epoch 290: 0.6791776356998744---Average Accuracy: 0.5952983725135623\n",
      "Accuracy in test set: 0.6054338514257741\n",
      "Average Error epoch 300: 0.6792622389948273---Average Accuracy: 0.5948764315852924\n",
      "Accuracy in test set: 0.6056786195080162\n",
      "Average Error epoch 310: 0.6793314382913104---Average Accuracy: 0.5951778179626281\n",
      "Accuracy in test set: 0.6056786195080162\n",
      "Average Error epoch 320: 0.6793630804890999---Average Accuracy: 0.5951175406871609\n",
      "Accuracy in test set: 0.6054338514257741\n",
      "Average Error epoch 330: 0.679421020377608---Average Accuracy: 0.5945750452079567\n",
      "Accuracy in test set: 0.6055562354668951\n",
      "Average Error epoch 340: 0.6794673467020997---Average Accuracy: 0.5943942133815552\n",
      "Accuracy in test set: 0.6055562354668951\n",
      "Average Error epoch 350: 0.6792846036287983---Average Accuracy: 0.5945750452079567\n",
      "Accuracy in test set: 0.6054338514257741\n",
      "Average Error epoch 360: 0.6794614593596728---Average Accuracy: 0.5923447860156721\n",
      "Accuracy in test set: 0.6056786195080162\n",
      "Average Error epoch 370: 0.6788914611175277---Average Accuracy: 0.5945750452079567\n",
      "Accuracy in test set: 0.6055562354668951\n",
      "Average Error epoch 380: 0.6795216238098647---Average Accuracy: 0.5931886678722121\n",
      "Accuracy in test set: 0.6058010035491372\n",
      "Average Error epoch 390: 0.6794295356172114---Average Accuracy: 0.5940325497287523\n",
      "Accuracy in test set: 0.6058010035491372\n",
      "Average Error epoch 400: 0.6791479274819842---Average Accuracy: 0.5947558770343581\n",
      "Accuracy in test set: 0.6056786195080162\n",
      "Average Error epoch 410: 0.6800732557545206---Average Accuracy: 0.5868595539481615\n",
      "Accuracy in test set: 0.5021417207196182\n",
      "Average Error epoch 420: 0.7054931613288756---Average Accuracy: 0.4945750452079566\n",
      "Accuracy in test set: 0.5021417207196182\n",
      "Average Error epoch 430: 0.6795084307143778---Average Accuracy: 0.5913200723327305\n",
      "Accuracy in test set: 0.5021417207196182\n",
      "Average Error epoch 440: 0.6789746099730789---Average Accuracy: 0.5925256178420736\n",
      "Accuracy in test set: 0.5021417207196182\n",
      "Average Error epoch 450: 0.6798382684871226---Average Accuracy: 0.5901748040988547\n",
      "Accuracy in test set: 0.5021417207196182\n",
      "Average Error epoch 460: 0.6793284778010055---Average Accuracy: 0.5918022905364677\n",
      "Accuracy in test set: 0.5021417207196182\n",
      "Average Error epoch 470: 0.6796268836456352---Average Accuracy: 0.5908378541289934\n",
      "Accuracy in test set: 0.5021417207196182\n",
      "Average Error epoch 480: 0.6792796197392224---Average Accuracy: 0.5921639541892706\n",
      "Accuracy in test set: 0.5021417207196182\n",
      "Average Error epoch 490: 0.6790202759285564---Average Accuracy: 0.5921036769138035\n",
      "Accuracy in test set: 0.5021417207196182\n",
      "Average Error epoch 500: 0.6791886392214393---Average Accuracy: 0.5925256178420736\n",
      "Accuracy in test set: 0.5021417207196182\n",
      "Average Error epoch 510: 0.6800441040083919---Average Accuracy: 0.5916214587100663\n",
      "Accuracy in test set: 0.5021417207196182\n",
      "Average Error epoch 520: 0.6798727343109001---Average Accuracy: 0.5920433996383364\n",
      "Accuracy in test set: 0.5021417207196182\n",
      "Average Error epoch 530: 0.6808347006661883---Average Accuracy: 0.589451476793249\n",
      "Accuracy in test set: 0.5021417207196182\n",
      "Average Error epoch 540: 0.6803347829912624---Average Accuracy: 0.5911995177817962\n",
      "Accuracy in test set: 0.5021417207196182\n",
      "Average Error epoch 550: 0.6808734628862341---Average Accuracy: 0.5894514767932489\n",
      "Accuracy in test set: 0.5021417207196182\n",
      "Average Error epoch 560: 0.6810416529646568---Average Accuracy: 0.5904159132007233\n",
      "Accuracy in test set: 0.5021417207196182\n",
      "Average Error epoch 570: 0.6792554025157843---Average Accuracy: 0.5923447860156721\n",
      "Accuracy in test set: 0.5021417207196182\n"
     ]
    },
    {
     "ename": "KeyboardInterrupt",
     "evalue": "",
     "output_type": "error",
     "traceback": [
      "\u001b[1;31m---------------------------------------------------------------------------\u001b[0m",
      "\u001b[1;31mKeyboardInterrupt\u001b[0m                         Traceback (most recent call last)",
      "\u001b[1;32m<ipython-input-41-dfbde950e2db>\u001b[0m in \u001b[0;36m<module>\u001b[1;34m\u001b[0m\n\u001b[1;32m----> 1\u001b[1;33m \u001b[0mnet\u001b[0m\u001b[1;33m.\u001b[0m\u001b[0mSGD\u001b[0m\u001b[1;33m(\u001b[0m\u001b[0mX_train\u001b[0m \u001b[1;33m,\u001b[0m \u001b[0my_train\u001b[0m\u001b[1;33m,\u001b[0m \u001b[0mX_test\u001b[0m\u001b[1;33m,\u001b[0m \u001b[0my_test\u001b[0m\u001b[1;33m,\u001b[0m \u001b[0mminibatch_size\u001b[0m \u001b[1;33m=\u001b[0m \u001b[1;36m10\u001b[0m\u001b[1;33m)\u001b[0m\u001b[1;33m\u001b[0m\u001b[1;33m\u001b[0m\u001b[0m\n\u001b[0m",
      "\u001b[1;32m~\\Desktop\\mae_code\\NeuralNetworksMae\\nnCode.py\u001b[0m in \u001b[0;36mSGD\u001b[1;34m(self, X, y, x_test, y_test, minibatch_size)\u001b[0m\n\u001b[0;32m    110\u001b[0m \u001b[1;33m\u001b[0m\u001b[0m\n\u001b[0;32m    111\u001b[0m                 \u001b[1;31m#Obtener los dC/dw y dC/db del minibatch usando backprop\u001b[0m\u001b[1;33m\u001b[0m\u001b[1;33m\u001b[0m\u001b[1;33m\u001b[0m\u001b[0m\n\u001b[1;32m--> 112\u001b[1;33m                 \u001b[0mself\u001b[0m\u001b[1;33m.\u001b[0m\u001b[0mbackpropagate\u001b[0m\u001b[1;33m(\u001b[0m\u001b[0my_true\u001b[0m\u001b[1;33m)\u001b[0m\u001b[1;33m\u001b[0m\u001b[1;33m\u001b[0m\u001b[0m\n\u001b[0m\u001b[0;32m    113\u001b[0m                 \u001b[0mdelta_nw\u001b[0m \u001b[1;33m=\u001b[0m \u001b[0mself\u001b[0m\u001b[1;33m.\u001b[0m\u001b[0mgradients\u001b[0m \u001b[1;31m#dC/dw\u001b[0m\u001b[1;33m\u001b[0m\u001b[1;33m\u001b[0m\u001b[0m\n\u001b[0;32m    114\u001b[0m                 \u001b[0mdelta_nb\u001b[0m \u001b[1;33m=\u001b[0m \u001b[0mself\u001b[0m\u001b[1;33m.\u001b[0m\u001b[0mgrad_biases\u001b[0m \u001b[1;31m#dC/db\u001b[0m\u001b[1;33m\u001b[0m\u001b[1;33m\u001b[0m\u001b[0m\n",
      "\u001b[1;32m~\\Desktop\\mae_code\\NeuralNetworksMae\\nnCode.py\u001b[0m in \u001b[0;36mbackpropagate\u001b[1;34m(self, y)\u001b[0m\n\u001b[0;32m     38\u001b[0m         \u001b[1;31m#Sigmas of the rest of layers...\u001b[0m\u001b[1;33m\u001b[0m\u001b[1;33m\u001b[0m\u001b[1;33m\u001b[0m\u001b[0m\n\u001b[0;32m     39\u001b[0m         \u001b[1;32mfor\u001b[0m \u001b[0mw\u001b[0m\u001b[1;33m,\u001b[0m\u001b[0ma\u001b[0m\u001b[1;33m,\u001b[0m\u001b[0mo_layer\u001b[0m \u001b[1;32min\u001b[0m \u001b[0mzip\u001b[0m\u001b[1;33m(\u001b[0m\u001b[0mself\u001b[0m\u001b[1;33m.\u001b[0m\u001b[0mweights\u001b[0m\u001b[1;33m[\u001b[0m\u001b[1;33m:\u001b[0m\u001b[1;33m:\u001b[0m\u001b[1;33m-\u001b[0m\u001b[1;36m1\u001b[0m\u001b[1;33m]\u001b[0m\u001b[1;33m,\u001b[0m \u001b[0mself\u001b[0m\u001b[1;33m.\u001b[0m\u001b[0mactivations\u001b[0m\u001b[1;33m[\u001b[0m\u001b[1;33m:\u001b[0m\u001b[1;33m-\u001b[0m\u001b[1;36m1\u001b[0m\u001b[1;33m]\u001b[0m\u001b[1;33m[\u001b[0m\u001b[1;33m:\u001b[0m\u001b[1;33m:\u001b[0m\u001b[1;33m-\u001b[0m\u001b[1;36m1\u001b[0m\u001b[1;33m]\u001b[0m\u001b[1;33m,\u001b[0m\u001b[0mself\u001b[0m\u001b[1;33m.\u001b[0m\u001b[0mactivated_layers\u001b[0m\u001b[1;33m[\u001b[0m\u001b[1;33m:\u001b[0m\u001b[1;33m-\u001b[0m\u001b[1;36m1\u001b[0m\u001b[1;33m]\u001b[0m\u001b[1;33m[\u001b[0m\u001b[1;33m:\u001b[0m\u001b[1;33m:\u001b[0m\u001b[1;33m-\u001b[0m\u001b[1;36m1\u001b[0m\u001b[1;33m]\u001b[0m\u001b[1;33m)\u001b[0m \u001b[1;33m:\u001b[0m\u001b[1;33m\u001b[0m\u001b[1;33m\u001b[0m\u001b[0m\n\u001b[1;32m---> 40\u001b[1;33m             \u001b[0msigmas_box\u001b[0m\u001b[1;33m.\u001b[0m\u001b[0mappend\u001b[0m\u001b[1;33m(\u001b[0m\u001b[0mnp\u001b[0m\u001b[1;33m.\u001b[0m\u001b[0mdot\u001b[0m\u001b[1;33m(\u001b[0m\u001b[0msigmas_box\u001b[0m\u001b[1;33m[\u001b[0m\u001b[1;33m-\u001b[0m\u001b[1;36m1\u001b[0m\u001b[1;33m]\u001b[0m\u001b[1;33m,\u001b[0m \u001b[0mw\u001b[0m\u001b[1;33m)\u001b[0m \u001b[1;33m*\u001b[0m \u001b[0ma\u001b[0m\u001b[1;33m.\u001b[0m\u001b[0msigma_prime\u001b[0m\u001b[1;33m(\u001b[0m\u001b[0mo_layer\u001b[0m\u001b[1;33m)\u001b[0m\u001b[1;33m)\u001b[0m\u001b[1;33m\u001b[0m\u001b[1;33m\u001b[0m\u001b[0m\n\u001b[0m\u001b[0;32m     41\u001b[0m \u001b[1;33m\u001b[0m\u001b[0m\n\u001b[0;32m     42\u001b[0m         \u001b[1;31m#Reverse sigma_box\u001b[0m\u001b[1;33m\u001b[0m\u001b[1;33m\u001b[0m\u001b[1;33m\u001b[0m\u001b[0m\n",
      "\u001b[1;32m<__array_function__ internals>\u001b[0m in \u001b[0;36mdot\u001b[1;34m(*args, **kwargs)\u001b[0m\n",
      "\u001b[1;31mKeyboardInterrupt\u001b[0m: "
     ]
    }
   ],
   "source": [
    "net.SGD(X_train , y_train, X_test, y_test, minibatch_size = 10)"
   ]
  },
  {
   "cell_type": "code",
   "execution_count": null,
   "metadata": {},
   "outputs": [],
   "source": [
    "X_train.shape"
   ]
  },
  {
   "cell_type": "code",
   "execution_count": null,
   "metadata": {},
   "outputs": [],
   "source": [
    "X_train[:2]"
   ]
  },
  {
   "cell_type": "code",
   "execution_count": null,
   "metadata": {},
   "outputs": [],
   "source": [
    "from sklearn.neural_network import MLPClassifier\n",
    "from sklearn.datasets import make_classification\n",
    "clf = MLPClassifier(random_state=1, max_iter=3000).fit(X_train, y_train)\n",
    "clf.score(X_test, y_test)"
   ]
  },
  {
   "cell_type": "code",
   "execution_count": null,
   "metadata": {},
   "outputs": [],
   "source": []
  },
  {
   "cell_type": "code",
   "execution_count": null,
   "metadata": {},
   "outputs": [],
   "source": [
    "clf.score(X_train, y_train)"
   ]
  },
  {
   "cell_type": "code",
   "execution_count": null,
   "metadata": {},
   "outputs": [],
   "source": [
    "X, y = make_classification(n_samples=30000, random_state=1)\n",
    "X_train, X_test, y_train, y_test = train_test_split(X, y, test_size=0.33, random_state=42)\n"
   ]
  },
  {
   "cell_type": "code",
   "execution_count": null,
   "metadata": {},
   "outputs": [],
   "source": [
    "sizes_game = [20,128,2]\n",
    "LR = 0.01\n",
    "EPOCHS = 50\n",
    "net = Dense(sizes_game, activations = [Sigmoid(), Softmax()], Loss = CategoricalCrossEntropyLoss(),\n",
    "            epochs = EPOCHS, metric = Accuracy(), learning_rate = LR)"
   ]
  },
  {
   "cell_type": "code",
   "execution_count": null,
   "metadata": {},
   "outputs": [],
   "source": [
    "y_train.shape"
   ]
  },
  {
   "cell_type": "code",
   "execution_count": null,
   "metadata": {},
   "outputs": [],
   "source": [
    "y_train"
   ]
  },
  {
   "cell_type": "code",
   "execution_count": null,
   "metadata": {},
   "outputs": [],
   "source": [
    "net.SGD(X_train , y_train, X_test, y_test, minibatch_size = 10)"
   ]
  },
  {
   "cell_type": "code",
   "execution_count": null,
   "metadata": {},
   "outputs": [],
   "source": []
  }
 ],
 "metadata": {
  "kernelspec": {
   "display_name": "Python 3",
   "language": "python",
   "name": "python3"
  },
  "language_info": {
   "codemirror_mode": {
    "name": "ipython",
    "version": 3
   },
   "file_extension": ".py",
   "mimetype": "text/x-python",
   "name": "python",
   "nbconvert_exporter": "python",
   "pygments_lexer": "ipython3",
   "version": "3.7.7"
  }
 },
 "nbformat": 4,
 "nbformat_minor": 4
}

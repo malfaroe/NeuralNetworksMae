{
 "cells": [
  {
   "cell_type": "code",
   "execution_count": 1,
   "id": "7ae21ca7",
   "metadata": {},
   "outputs": [],
   "source": [
    "\"\"\"First version with basic optimizer SGD\"\"\"\n",
    "\n",
    "import pandas as pd\n",
    "import numpy as np\n",
    "\n",
    "#from IPython.core.display import display, HTML\n",
    "#display(HTML(\"<style>.container { width:100% !important; }</style>\"))\n",
    "#display(HTML(\"<style>.output_result { max-width:100% !important; }</style>\"))\n",
    "#display(HTML(\"<style>.prompt { display:none !important; }</style>\"))\n",
    "\n"
   ]
  },
  {
   "cell_type": "code",
   "execution_count": 2,
   "id": "b25056eb",
   "metadata": {},
   "outputs": [],
   "source": [
    "class Dense():\n",
    "\n",
    "    def __init__(self, sizes, activations, Loss, epochs, metric, learning_rate):\n",
    "        self.weights =[np.random.randn(sizes[i],sizes[i-1]) for i in range(1, len(sizes))]\n",
    "        self.biases =  [np.zeros((1, sizes[i])) for i in range(1, len(sizes))]\n",
    "        self.activations = activations\n",
    "        self.Loss = Loss\n",
    "        self.epochs = epochs\n",
    "        self.metric = metric\n",
    "        self.learning_rate = learning_rate\n",
    "        \n",
    "    def forward(self, inputs):\n",
    "        x = inputs\n",
    "        self.activated_layers = [x]\n",
    "        for w,b, act in zip(self.weights, self.biases, self.activations):\n",
    "            activation = act.activate(np.dot(x, w.T) + b)\n",
    "            self.activated_layers.append(activation)\n",
    "            x = activation\n",
    "            \n",
    "            \n",
    "    def backpropagate(self, y):\n",
    "        #Input: activated_layers\n",
    "        #output: Container Gradient dE/dw \n",
    "        #Initialize\n",
    "        sigmas_box = []\n",
    "        sigma_prime_box = []\n",
    "    \n",
    "       #Backprop the error ()\n",
    "        #1. Compute output layer sigma\n",
    "        loss_grad = self.Loss.loss_gradient(self.activated_layers[-1], y)\n",
    "        output_sigma = self.activations[-1].output_layer_sigma(loss_grad, self.activated_layers[-1])\n",
    "        sigmas_box = [output_sigma]\n",
    "        #Sigmas of the rest of layers...\n",
    "        for w,a,o_layer in zip(self.weights[::-1], self.activations[:-1][::-1],self.activated_layers[:-1][::-1]) :\n",
    "            sigmas_box.append(np.dot(sigmas_box[-1], w) * a.sigma_prime(o_layer))\n",
    "       \n",
    "        #Reverse sigma_box    \n",
    "        sigmas_box.reverse()\n",
    "        #Biases update\n",
    "        self.grad_biases = sigmas_box\n",
    "        #Gradient (dE/dw):\n",
    "        self.gradients = []\n",
    "        for a, s in zip(self.activated_layers[:-1], sigmas_box):\n",
    "            self.gradients.append(np.dot(s.T, a))\n",
    "        #Nota: al hacerse la multiplicacion de todos los inputs a la vez\n",
    "        #Igual se mantiene el shape de cada weight pero mientras más\n",
    "        #Inputs más grandes salen los valores de cada componente de la matriz\n",
    "        #Por eso después se divide cada weight por el total de inputs (mean)\n",
    "        # print(\"Gradients shapes:\")\n",
    "        # for g in gradients:\n",
    "        #     print(g.shape)\n",
    "       \n",
    "\n",
    "    def weight_update(self):\n",
    "        for w,gw, b, gb in zip(self.weights, self.gradients, self.biases, self.grad_biases):\n",
    "            w -= (self.learning_rate / len(X))* gw\n",
    "            b -= (self.learning_rate / len(gb))* np.sum(gb, axis= 0)\n",
    "\n",
    "        return self.weights, self.biases\n",
    "        \n",
    "    \n",
    "    def train(self, X,y):\n",
    "        print(\"Training......\")\n",
    "        for e in range(self.epochs):\n",
    "            #Dar un forward pass y testear\n",
    "            self.forward(X)\n",
    "            #print(\"Testing output layers:\", self.activated_layers[-1][:5])\n",
    "            #Compute the error\n",
    "            error = np.mean(self.Loss.forward_loss(self.activated_layers[-1], y))\n",
    "            if e % 1 == 0:\n",
    "                print(\"Error epoch {0}/{1} : {2}---Accuracy: {3}\".format(e,self.epochs,\n",
    "                                                                         error, self.metric.get_accuracy(self.activated_layers[-1], y)))\n",
    "            #Backprop the error ()\n",
    "            self.backpropagate(y)\n",
    "            self.weights, self.biases = self.weight_update()\n",
    "        print(\"Training done!\")\n",
    "\n",
    "\n",
    "            \n",
    "    def SGD(self, X,y,x_test, y_test, minibatch_size):\n",
    "        \"\"\"Vectorized version\"\"\"\n",
    "        print(\"SGD Training......\")\n",
    "        for e in range(1, self.epochs + 1):\n",
    "            #tomar dataset y generar minibatches box\n",
    "            minibatches = self.minibatch_generator(X,y, minibatch_size)\n",
    "            Losses = []\n",
    "            Accuracies = []\n",
    "            for mb in minibatches:\n",
    "                nabla_w, nabla_b = [], [] #box para ir guardando los dC/dw y dC/db de cada ejemplo\n",
    "                input = mb[0]\n",
    "                y_true = np.array(mb[1]).astype(int)\n",
    "                #Dar un forward pass \n",
    "                #print(\"Minibatch input shape:\", input.shape)\n",
    "                #print(\"Minibatch y_true shape:\", y_true.shape)\n",
    "                #print(\"Bias\", self.biases[0])\n",
    "\n",
    "                \n",
    "                self.forward(input)\n",
    "                #Calcular el error\n",
    "                error = np.mean(self.Loss.forward_loss(self.activated_layers[-1], y_true))\n",
    "                #Guardar el error y accuracy\n",
    "                Losses.append(error)\n",
    "                Accuracies.append(self.metric.get_accuracy(self.activated_layers[-1], y_true))\n",
    "\n",
    "\n",
    "                #Obtener los dC/dw y dC/db del minibatch usando backprop\n",
    "                self.backpropagate(y_true)\n",
    "                delta_nw = self.gradients #dC/dw\n",
    "                delta_nb = self.grad_biases #dC/db\n",
    "                self.weights = [w - (self.learning_rate/ len(mb)) * dw for w,dw in zip(self.weights, delta_nw)]\n",
    "                self.biases = [b - (self.learning_rate/ len(mb)) * np.sum(db, axis = 0) for b, db in zip(self.biases, delta_nb)]\n",
    "            \n",
    "            #Reporte de error epoch...\n",
    "            if (e % 100 == 0 ) or (e == self.epochs):\n",
    "                print(\"Average Error epoch {0}: {1}---Average Accuracy: {2}\".format(e, np.mean(Losses), np.mean(Accuracies)))\n",
    "                print(\"Accuracy in test set:\", self.evaluate_test(x_test, y_test))\n",
    "                   \n",
    "        print(\"Training complete!\")\n",
    "\n",
    "    \n",
    "    \n",
    "\n",
    "    def minibatch_generator(self, X,y, batch_size):\n",
    "        dataset = list(zip(X,np.array(y)))\n",
    "        np.random.shuffle(dataset)\n",
    "        minibatches = [(X[i:i+batch_size,:], y[i:i+batch_size]) for\n",
    "                        i in range(0, len(y), batch_size)]\n",
    "\n",
    "        #si minibatch final es mas chico que el batch size se le mete desde\n",
    "        #atras inputs hasta completar el tamaño batch size\n",
    "        if len(minibatches[-1][0]) < batch_size:\n",
    "            #print(\"Len minibatches -1:\", len(minibatches[-1][0]))\n",
    "            minibatches[-1] = (X[-batch_size:,:], y[-batch_size:])\n",
    "            \n",
    "        return minibatches\n",
    "    \n",
    "    def evaluate_test(self, x_test, y_test):\n",
    "        \"\"\"Evaluates the model on the test set\n",
    "        input: x_test, y_test\n",
    "        output: accuracy\"\"\"\n",
    "        #Forward pass---obtain prediction y_pred\n",
    "        self.forward(x_test)\n",
    "        #Evaluate prediction with accuracy\n",
    "        acc_test = self.metric.get_accuracy(self.activated_layers[-1], y_test)\n",
    "        #Return accuracy\n",
    "        return acc_test\n",
    "\n",
    "        \n",
    " \n",
    "class Relu():\n",
    "    def activate(self, x):\n",
    "        self.output = np.maximum(0,x)\n",
    "        return self.output\n",
    "    \n",
    "    def sigma_prime(self, x):\n",
    "        return 1. * (x > 0)\n",
    "\n",
    "\n",
    "class Sigmoid():\n",
    "    def activate(self, x):\n",
    "        #np.exp - (x - np.max(x, axis = 1, keepdims= True))\n",
    "        x = np.clip(x, 1e-7, 1 - 1e-7)\n",
    "        self.output = 1 / (1+ np.exp (- (x - np.max(x, axis = 1, keepdims= True))))\n",
    "        #self.output = 1 / (1+ np.exp(-x))\n",
    "        return self.output\n",
    "    \n",
    "    def output_layer_sigma(self, loss_gradients, x):\n",
    "        \"\"\"en realidad calcula todo el sigma de una vez como dC/da * sigma_prime\n",
    "        dC/da = loss_gradient\"\"\"\n",
    "        \n",
    "        self.output_sigma = loss_gradients * self.sigma_prime(x)\n",
    "        return self.output_sigma\n",
    "    \n",
    "    def sigma_prime(self, x):\n",
    "        return x * (1-x)\n",
    "\n",
    "class Softmax():\n",
    "    def activate(self, x):\n",
    "        #Get unnormalized probs\n",
    "        exp_values = np.exp(x - np.max(x, axis = 1, keepdims= True))\n",
    "        #Get normalized probs\n",
    "        self.output = exp_values / np.sum(exp_values, axis= 1, keepdims= True)\n",
    "        return self.output\n",
    "    \n",
    "    def output_layer_sigma(self, loss_gradients, out_activations):\n",
    "        \"\"\"Dado que es complejo multplicar el jacobiano de cada input por\n",
    "        #su loss_gradient por que el jac es una matrix, se hace aca todo directo y se saca \n",
    "        #el output layer sigma = dE/dsigma.dsigma/dz\"\"\"\n",
    "        #Se crea un contenedor donde irá el output_sigma de cada input\n",
    "        #del tamaño del loss_gradient (dinputs)\n",
    "        self.output_sigma = np.empty_like(loss_gradients)\n",
    "\n",
    "        #Tomo uno a uno los Loss_gradientes de cada input y cada\n",
    "        #softmax activation de la output layer para hacer uno a uno los\n",
    "        #output_sigmas...\n",
    "        for index, (single_act, single_loss_grad) in enumerate(zip(out_activations, loss_gradients)):\n",
    "            single_act = single_act.reshape(-1,1)\n",
    "            #Calculate jacobian matrix (sigma_prime of softmax)\n",
    "            jacobian_matrix = np.diagflat(single_act) - np.dot(single_act, single_act.T)\n",
    "            self.output_sigma[index] = np.dot(jacobian_matrix, single_loss_grad)\n",
    "        return self.output_sigma\n",
    "\n",
    "         \n",
    "\n",
    "    \n",
    "##Loss Units\n",
    "class MSE():\n",
    "    \n",
    "    #Forward\n",
    "    def forward_loss(self, y_pred, y_true):\n",
    "        y_pred = np.clip(y_pred, 1e-7, 1 - 1e-7)\n",
    "        labels = len(y_pred[0])                  \n",
    "        if len(y_true.shape) == 1:\n",
    "            y_true = np.eye(labels)[y_true]\n",
    "        return  np.sum((y_pred- y_true)**2, axis=1) / len(y_pred)\n",
    "        \n",
    "    #Derivative\n",
    "    def loss_gradient(self, y_pred, y_true): #dE/dact\n",
    "        y_pred = np.clip(y_pred, 1e-7, 1 - 1e-7)\n",
    "        labels = len(y_pred[0])                  \n",
    "        if len(y_true.shape) == 1:\n",
    "            y_true = np.eye(labels)[y_true]\n",
    "        self.dinputs = (2/len(y_pred)) * (y_pred - y_true)\n",
    "        return self.dinputs\n",
    "    \n",
    "    \n",
    "class CategoricalCrossEntropyLoss():\n",
    "    def forward_loss(self, y_pred, y_true):\n",
    "         #entrega el vector de negative losses de cada sample\n",
    "         y_pred = np.clip(y_pred, 1e-7, 1 - 1e-7) #recorta para evitar logs mulas\n",
    "         if len(y_true.shape) == 1: #si el y_true viene en un solo vector de escalares\n",
    "             #extraigo el valor que tiene el indice indicado en el y_true\n",
    "             #correspondiente\n",
    "             correct_confidences = y_pred[range(len(y_pred)), y_true]\n",
    "        \n",
    "         if len(y_true.shape) == 2: #matrix\n",
    "             #lo mismo pero multiplique y sume para obtener el valor\n",
    "             #que tiene el indice indicado por el y_true (el resto se hace zero\n",
    "             #al multiplicar)\n",
    "             correct_confidences = np.sum( y_pred * y_true, axis = 1)\n",
    "        \n",
    "         negative_loss_likehoods = -np.log(correct_confidences)\n",
    "\n",
    "         return negative_loss_likehoods\n",
    "    \n",
    "    def loss_gradient(self, dvalues, y_true): #dE/dact\n",
    "        # Number of samples\n",
    "        dvalues = np.clip(dvalues, 1e-7, 1 - 1e-7)\n",
    "        samples = len(dvalues)\n",
    "        # Number of labels in every sample\n",
    "        # We'll use the first sample to count them\n",
    "        labels = len(dvalues[0])\n",
    "        # If labels are sparse, turn them into one-hot vector\n",
    "        if len(y_true.shape) == 1:\n",
    "            y_true = np.eye(labels)[y_true]\n",
    "        # Calculate gradient\n",
    "        self.dinputs = -y_true / dvalues\n",
    "        # Normalize gradient\n",
    "        self.dinputs = self.dinputs / samples\n",
    "        return self.dinputs\n",
    "\n",
    "\n",
    "\n",
    "class Accuracy():\n",
    "#gets the accuracy of the training stage\n",
    "    def get_accuracy(self, y_pred, y_true):\n",
    "        #saca el indice donde esta el valor mas grande\n",
    "        predictions = np.argmax(y_pred, axis= 1)\n",
    "\n",
    "        #y_true en formato escalares\n",
    "        if len(y_true.shape) == 1:\n",
    "            accuracy = np.mean(predictions == y_true)\n",
    "        #matrix\n",
    "        elif len(y_true.shape) == 2:\n",
    "            y_true = np.argmax(y_true, axis= 1)\n",
    "            accuracy = np.mean(predictions == y_true) #promedia coincidencias de valor de indice\n",
    "\n",
    "        return accuracy\n",
    "\n",
    "\n",
    "\n",
    "###TESTING MODULE\n",
    "from sklearn import datasets\n",
    "\n",
    "iris = datasets.load_iris()\n",
    "X = iris.data \n",
    "y = iris.target\n",
    "\n",
    "X, y = datasets.make_classification(n_samples = 50000, n_features = 8,n_redundant=0,n_informative= 5,\n",
    "                                      n_classes = 3)\n",
    "from sklearn import preprocessing\n",
    "\n",
    "scaler = preprocessing.StandardScaler().fit(X)\n",
    "\n",
    "X_scaled = scaler.transform(X)\n",
    "# if __name__ == '__main__':\n",
    "#     sizes = [8, 10, 3]\n",
    "#     EPOCHS = 50\n",
    "#     #sizes = [4, 5,  3]\n",
    "#     net = Dense(sizes, activations = [Relu(), Softmax()], Loss = CategoricalCrossEntropyLoss(),\n",
    "#                 epochs = EPOCHS, metric = Accuracy(), learning_rate = 0.015)\n",
    "#     # net.train(X_scaled,y)\n",
    "#     net.SGD(X_scaled,y, minibatch_size = 10)\n",
    "\n",
    "\n",
    "\n",
    "##NEXT....................................................\n",
    "#REVIEW AND UNDERSTAND THE BACKPROP AND PARAMETER UPDATING MECHANICS\n",
    "#BIAS UPDATE ESTA MUY CUTRE\n",
    "#REARRANGE, EDIT DEAD CODE AND RESTACK THE CODE\n",
    "#hacer un codigo explicativo de aprendizaje y generar un codigo terminado para produccion\n",
    "#NEXT LEVEL: SGD\n",
    "#test with train, test split\n",
    "#Benchmarking with sklearn"
   ]
  },
  {
   "cell_type": "code",
   "execution_count": 3,
   "id": "0c4efe13",
   "metadata": {},
   "outputs": [],
   "source": [
    "train = pd.read_csv(\"mnist_train.csv\", delimiter= \",\")\n",
    "X = train.iloc[:, 1:]\n",
    "y = train.iloc[:, 0]\n",
    "\n",
    "#Loading test set\n",
    "test = pd.read_csv(\"mnist_test.csv\", delimiter= \",\")\n",
    "x_test = test.iloc[:, 1:]\n",
    "y_test = test.iloc[:, 0]\n",
    "\n",
    "# scaler = preprocessing.StandardScaler().fit(X)\n",
    "\n",
    "# X = scaler.transform(X)\n",
    "# test_X = scaler.transform( test_X )\n",
    "\n",
    "scaler = preprocessing.StandardScaler()\n",
    "X = scaler.fit_transform( X )\n",
    "x_test = scaler.transform(x_test)"
   ]
  },
  {
   "cell_type": "code",
   "execution_count": 23,
   "id": "8b684cf8",
   "metadata": {},
   "outputs": [
    {
     "name": "stdout",
     "output_type": "stream",
     "text": [
      "SGD Training......\n",
      "Average Error epoch 100: 0.0890913704868659---Average Accuracy: 0.9733\n",
      "Accuracy in test set: 0.9033\n",
      "Average Error epoch 200: 0.055077592847526585---Average Accuracy: 0.9862000000000001\n",
      "Accuracy in test set: 0.897\n",
      "Average Error epoch 300: 0.041638602335428695---Average Accuracy: 0.9887\n",
      "Accuracy in test set: 0.8983\n",
      "Average Error epoch 400: 0.03669702228542742---Average Accuracy: 0.9916\n",
      "Accuracy in test set: 0.8968\n",
      "Average Error epoch 500: 0.029205721794091453---Average Accuracy: 0.9932000000000001\n",
      "Accuracy in test set: 0.8965\n",
      "Average Error epoch 600: 0.026487366643549556---Average Accuracy: 0.9943000000000001\n",
      "Accuracy in test set: 0.9014\n",
      "Average Error epoch 700: 0.022251120054931902---Average Accuracy: 0.9942000000000001\n",
      "Accuracy in test set: 0.9008\n",
      "Average Error epoch 800: 0.018002019941526934---Average Accuracy: 0.9967999999999999\n",
      "Accuracy in test set: 0.8991\n",
      "Average Error epoch 900: 0.01813526670078641---Average Accuracy: 0.997\n",
      "Accuracy in test set: 0.8998\n"
     ]
    },
    {
     "ename": "KeyboardInterrupt",
     "evalue": "",
     "output_type": "error",
     "traceback": [
      "\u001b[0;31m---------------------------------------------------------------------------\u001b[0m",
      "\u001b[0;31mKeyboardInterrupt\u001b[0m                         Traceback (most recent call last)",
      "\u001b[0;32m/var/folders/w9/sqb6btqs30jdv8h_fy7t6wp80000gn/T/ipykernel_21363/3002896108.py\u001b[0m in \u001b[0;36m<module>\u001b[0;34m\u001b[0m\n\u001b[1;32m     10\u001b[0m \u001b[0;31m#net.SGD(X , np.array(y), x_test, y_test, minibatch_size = 10)\u001b[0m\u001b[0;34m\u001b[0m\u001b[0;34m\u001b[0m\u001b[0;34m\u001b[0m\u001b[0m\n\u001b[1;32m     11\u001b[0m \u001b[0;31m#net.SGD(X[:10000] , y[:10000], x_test, y_test, minibatch_size = 10)\u001b[0m\u001b[0;34m\u001b[0m\u001b[0;34m\u001b[0m\u001b[0;34m\u001b[0m\u001b[0m\n\u001b[0;32m---> 12\u001b[0;31m \u001b[0mnet\u001b[0m\u001b[0;34m.\u001b[0m\u001b[0mMomentum\u001b[0m\u001b[0;34m(\u001b[0m\u001b[0mX\u001b[0m\u001b[0;34m[\u001b[0m\u001b[0;34m:\u001b[0m\u001b[0;36m10000\u001b[0m\u001b[0;34m]\u001b[0m \u001b[0;34m,\u001b[0m \u001b[0my\u001b[0m\u001b[0;34m[\u001b[0m\u001b[0;34m:\u001b[0m\u001b[0;36m10000\u001b[0m\u001b[0;34m]\u001b[0m\u001b[0;34m,\u001b[0m \u001b[0mx_test\u001b[0m\u001b[0;34m,\u001b[0m \u001b[0my_test\u001b[0m\u001b[0;34m,\u001b[0m \u001b[0mminibatch_size\u001b[0m \u001b[0;34m=\u001b[0m \u001b[0;36m10\u001b[0m\u001b[0;34m,\u001b[0m \u001b[0mbeta\u001b[0m \u001b[0;34m=\u001b[0m \u001b[0;36m0.9\u001b[0m\u001b[0;34m)\u001b[0m\u001b[0;34m\u001b[0m\u001b[0;34m\u001b[0m\u001b[0m\n\u001b[0m\u001b[1;32m     13\u001b[0m \u001b[0;31m#net.SGD(X[:1000] , y[:1000], x_test, y_test, minibatch_size = 10)\u001b[0m\u001b[0;34m\u001b[0m\u001b[0;34m\u001b[0m\u001b[0;34m\u001b[0m\u001b[0m\n",
      "\u001b[0;32m/var/folders/w9/sqb6btqs30jdv8h_fy7t6wp80000gn/T/ipykernel_21363/1752631957.py\u001b[0m in \u001b[0;36mMomentum\u001b[0;34m(self, X, y, x_test, y_test, minibatch_size, beta)\u001b[0m\n\u001b[1;32m    141\u001b[0m                 \u001b[0;31m#print(\"Bias\", self.biases[0])\u001b[0m\u001b[0;34m\u001b[0m\u001b[0;34m\u001b[0m\u001b[0;34m\u001b[0m\u001b[0m\n\u001b[1;32m    142\u001b[0m \u001b[0;34m\u001b[0m\u001b[0m\n\u001b[0;32m--> 143\u001b[0;31m                 \u001b[0mself\u001b[0m\u001b[0;34m.\u001b[0m\u001b[0mforward\u001b[0m\u001b[0;34m(\u001b[0m\u001b[0minput\u001b[0m\u001b[0;34m)\u001b[0m\u001b[0;34m\u001b[0m\u001b[0;34m\u001b[0m\u001b[0m\n\u001b[0m\u001b[1;32m    144\u001b[0m                 \u001b[0;31m#Calcular el error\u001b[0m\u001b[0;34m\u001b[0m\u001b[0;34m\u001b[0m\u001b[0;34m\u001b[0m\u001b[0m\n\u001b[1;32m    145\u001b[0m                 \u001b[0merror\u001b[0m \u001b[0;34m=\u001b[0m \u001b[0mnp\u001b[0m\u001b[0;34m.\u001b[0m\u001b[0mmean\u001b[0m\u001b[0;34m(\u001b[0m\u001b[0mself\u001b[0m\u001b[0;34m.\u001b[0m\u001b[0mLoss\u001b[0m\u001b[0;34m.\u001b[0m\u001b[0mforward_loss\u001b[0m\u001b[0;34m(\u001b[0m\u001b[0mself\u001b[0m\u001b[0;34m.\u001b[0m\u001b[0mactivated_layers\u001b[0m\u001b[0;34m[\u001b[0m\u001b[0;34m-\u001b[0m\u001b[0;36m1\u001b[0m\u001b[0;34m]\u001b[0m\u001b[0;34m,\u001b[0m \u001b[0my_true\u001b[0m\u001b[0;34m)\u001b[0m\u001b[0;34m)\u001b[0m\u001b[0;34m\u001b[0m\u001b[0;34m\u001b[0m\u001b[0m\n",
      "\u001b[0;32m/var/folders/w9/sqb6btqs30jdv8h_fy7t6wp80000gn/T/ipykernel_21363/1752631957.py\u001b[0m in \u001b[0;36mforward\u001b[0;34m(self, inputs)\u001b[0m\n\u001b[1;32m     14\u001b[0m         \u001b[0mself\u001b[0m\u001b[0;34m.\u001b[0m\u001b[0mactivated_layers\u001b[0m \u001b[0;34m=\u001b[0m \u001b[0;34m[\u001b[0m\u001b[0mx\u001b[0m\u001b[0;34m]\u001b[0m\u001b[0;34m\u001b[0m\u001b[0;34m\u001b[0m\u001b[0m\n\u001b[1;32m     15\u001b[0m         \u001b[0;32mfor\u001b[0m \u001b[0mw\u001b[0m\u001b[0;34m,\u001b[0m\u001b[0mb\u001b[0m\u001b[0;34m,\u001b[0m \u001b[0mact\u001b[0m \u001b[0;32min\u001b[0m \u001b[0mzip\u001b[0m\u001b[0;34m(\u001b[0m\u001b[0mself\u001b[0m\u001b[0;34m.\u001b[0m\u001b[0mweights\u001b[0m\u001b[0;34m,\u001b[0m \u001b[0mself\u001b[0m\u001b[0;34m.\u001b[0m\u001b[0mbiases\u001b[0m\u001b[0;34m,\u001b[0m \u001b[0mself\u001b[0m\u001b[0;34m.\u001b[0m\u001b[0mactivations\u001b[0m\u001b[0;34m)\u001b[0m\u001b[0;34m:\u001b[0m\u001b[0;34m\u001b[0m\u001b[0;34m\u001b[0m\u001b[0m\n\u001b[0;32m---> 16\u001b[0;31m             \u001b[0mactivation\u001b[0m \u001b[0;34m=\u001b[0m \u001b[0mact\u001b[0m\u001b[0;34m.\u001b[0m\u001b[0mactivate\u001b[0m\u001b[0;34m(\u001b[0m\u001b[0mnp\u001b[0m\u001b[0;34m.\u001b[0m\u001b[0mdot\u001b[0m\u001b[0;34m(\u001b[0m\u001b[0mx\u001b[0m\u001b[0;34m,\u001b[0m \u001b[0mw\u001b[0m\u001b[0;34m.\u001b[0m\u001b[0mT\u001b[0m\u001b[0;34m)\u001b[0m \u001b[0;34m+\u001b[0m \u001b[0mb\u001b[0m\u001b[0;34m)\u001b[0m\u001b[0;34m\u001b[0m\u001b[0;34m\u001b[0m\u001b[0m\n\u001b[0m\u001b[1;32m     17\u001b[0m             \u001b[0mself\u001b[0m\u001b[0;34m.\u001b[0m\u001b[0mactivated_layers\u001b[0m\u001b[0;34m.\u001b[0m\u001b[0mappend\u001b[0m\u001b[0;34m(\u001b[0m\u001b[0mactivation\u001b[0m\u001b[0;34m)\u001b[0m\u001b[0;34m\u001b[0m\u001b[0;34m\u001b[0m\u001b[0m\n\u001b[1;32m     18\u001b[0m             \u001b[0mx\u001b[0m \u001b[0;34m=\u001b[0m \u001b[0mactivation\u001b[0m\u001b[0;34m\u001b[0m\u001b[0;34m\u001b[0m\u001b[0m\n",
      "\u001b[0;32m<__array_function__ internals>\u001b[0m in \u001b[0;36mdot\u001b[0;34m(*args, **kwargs)\u001b[0m\n",
      "\u001b[0;31mKeyboardInterrupt\u001b[0m: "
     ]
    }
   ],
   "source": [
    "sizes2 = [784,100, 10]\n",
    "EPOCHS = 3000\n",
    "#sizes2 = [4, 5,  3]\n",
    "net = Dense(sizes2, activations = [Sigmoid(), Softmax()], Loss = CategoricalCrossEntropyLoss(),\n",
    "            epochs = EPOCHS, metric = Accuracy(), learning_rate = 0.9)\n",
    "#net = Dense(sizes2, activations = [Sigmoid(), Softmax()], Loss = MSE(),\n",
    "            #epochs = EPOCHS, metric = Accuracy(), learning_rate = 0.07)\n",
    "#net.train(X,y)\n",
    "\n",
    "#net.SGD(X , np.array(y), x_test, y_test, minibatch_size = 10)\n",
    "#net.SGD(X[:10000] , y[:10000], x_test, y_test, minibatch_size = 10)\n",
    "net.SGD(X[:10000] , y[:1000], x_test, y_test, minibatch_size = 10)"
   ]
  },
  {
   "cell_type": "code",
   "execution_count": 5,
   "id": "dc6e249f",
   "metadata": {},
   "outputs": [],
   "source": [
    "net1 = Dense(sizes2, activations = [Sigmoid(), Softmax()], Loss = MSE(),\n",
    "            epochs = EPOCHS, metric = Accuracy(), learning_rate = 0.05)\n",
    "        \n",
    "net2 = Dense(sizes2, activations = [Sigmoid(), Softmax()], Loss = CategoricalCrossEntropyLoss(),\n",
    "            epochs = EPOCHS, metric = Accuracy(), learning_rate = 0.05)"
   ]
  },
  {
   "cell_type": "code",
   "execution_count": 6,
   "id": "be8a6c5e",
   "metadata": {},
   "outputs": [],
   "source": [
    "net1.forward(X)\n",
    "net2.forward(X)"
   ]
  },
  {
   "cell_type": "code",
   "execution_count": 7,
   "id": "20e20a33",
   "metadata": {},
   "outputs": [
    {
     "data": {
      "text/plain": [
       "array([[1.18426604e-03, 1.21647365e-02, 2.04228398e-07, 1.70393580e-05,\n",
       "        2.66567999e-04, 1.26315185e-02, 2.96309579e-04, 9.22672514e-01,\n",
       "        5.07477485e-02, 1.90950437e-05],\n",
       "       [2.88906063e-03, 3.61742647e-02, 8.90360615e-06, 6.57472043e-05,\n",
       "        6.84911750e-04, 7.82657138e-02, 1.09632709e-03, 5.55839938e-01,\n",
       "        3.24355437e-01, 6.19695861e-04]])"
      ]
     },
     "execution_count": 7,
     "metadata": {},
     "output_type": "execute_result"
    }
   ],
   "source": [
    "net1.activated_layers[-1][:2]"
   ]
  },
  {
   "cell_type": "code",
   "execution_count": 8,
   "id": "a497012b",
   "metadata": {},
   "outputs": [
    {
     "data": {
      "text/plain": [
       "array([[5.02228398e-07, 3.79886229e-04, 8.32428093e-01, 5.92999109e-05,\n",
       "        6.47550015e-04, 3.29474777e-02, 2.53396453e-04, 1.32586324e-01,\n",
       "        4.99418835e-06, 6.92475802e-04],\n",
       "       [2.14868274e-05, 1.46405826e-03, 9.10211361e-01, 1.14820597e-05,\n",
       "        8.61948140e-04, 1.83992275e-02, 6.40934721e-02, 1.94273690e-03,\n",
       "        1.47577874e-05, 2.97946945e-03]])"
      ]
     },
     "execution_count": 8,
     "metadata": {},
     "output_type": "execute_result"
    }
   ],
   "source": [
    "net2.activated_layers[-1][:2]"
   ]
  },
  {
   "cell_type": "code",
   "execution_count": 9,
   "id": "c37956ab",
   "metadata": {},
   "outputs": [
    {
     "data": {
      "text/plain": [
       "array([0.91447298, 0.70791544])"
      ]
     },
     "execution_count": 9,
     "metadata": {},
     "output_type": "execute_result"
    }
   ],
   "source": [
    "net1.Loss.forward_loss(net1.activated_layers[-1][:2], y[:2])"
   ]
  },
  {
   "cell_type": "code",
   "execution_count": 10,
   "id": "e7e92796",
   "metadata": {},
   "outputs": [
    {
     "data": {
      "text/plain": [
       "array([ 3.41284057, 10.74807049])"
      ]
     },
     "execution_count": 10,
     "metadata": {},
     "output_type": "execute_result"
    }
   ],
   "source": [
    "net2.Loss.forward_loss(net2.activated_layers[-1][:2], y[:2])"
   ]
  },
  {
   "cell_type": "code",
   "execution_count": 11,
   "id": "d7f52ca5",
   "metadata": {},
   "outputs": [
    {
     "data": {
      "text/plain": [
       "array([[ 1.18426604e-03,  1.21647365e-02,  2.04228398e-07,\n",
       "         1.70393580e-05,  2.66567999e-04, -9.87368482e-01,\n",
       "         2.96309579e-04,  9.22672514e-01,  5.07477485e-02,\n",
       "         1.90950437e-05],\n",
       "       [-9.97110939e-01,  3.61742647e-02,  8.90360615e-06,\n",
       "         6.57472043e-05,  6.84911750e-04,  7.82657138e-02,\n",
       "         1.09632709e-03,  5.55839938e-01,  3.24355437e-01,\n",
       "         6.19695861e-04]])"
      ]
     },
     "execution_count": 11,
     "metadata": {},
     "output_type": "execute_result"
    }
   ],
   "source": [
    "net1.Loss.loss_gradient(net1.activated_layers[-1][:2], y[:2])"
   ]
  },
  {
   "cell_type": "code",
   "execution_count": 12,
   "id": "b4d9d2b3",
   "metadata": {},
   "outputs": [
    {
     "data": {
      "text/plain": [
       "array([[-0.00000000e+00, -0.00000000e+00, -0.00000000e+00,\n",
       "        -0.00000000e+00, -0.00000000e+00, -1.51756685e+01,\n",
       "        -0.00000000e+00, -0.00000000e+00, -0.00000000e+00,\n",
       "        -0.00000000e+00],\n",
       "       [-2.32700711e+04, -0.00000000e+00, -0.00000000e+00,\n",
       "        -0.00000000e+00, -0.00000000e+00, -0.00000000e+00,\n",
       "        -0.00000000e+00, -0.00000000e+00, -0.00000000e+00,\n",
       "        -0.00000000e+00]])"
      ]
     },
     "execution_count": 12,
     "metadata": {},
     "output_type": "execute_result"
    }
   ],
   "source": [
    "net2.Loss.loss_gradient(net2.activated_layers[-1][:2], y[:2])"
   ]
  },
  {
   "cell_type": "code",
   "execution_count": 13,
   "id": "9ee0b6ca",
   "metadata": {},
   "outputs": [],
   "source": [
    "a = np.random.randn(1,2)\n",
    "b = np.random.randn(1,3)"
   ]
  },
  {
   "cell_type": "code",
   "execution_count": 14,
   "id": "3e8ea2cf",
   "metadata": {},
   "outputs": [],
   "source": [
    "dw = [a,b]"
   ]
  },
  {
   "cell_type": "code",
   "execution_count": 15,
   "id": "5337a86a",
   "metadata": {},
   "outputs": [],
   "source": [
    "v = [np.ones((1,2)), np.ones((1,3))]"
   ]
  },
  {
   "cell_type": "code",
   "execution_count": 16,
   "id": "5114d0c4",
   "metadata": {},
   "outputs": [
    {
     "data": {
      "text/plain": [
       "[array([[1., 1.]]), array([[1., 1., 1.]])]"
      ]
     },
     "execution_count": 16,
     "metadata": {},
     "output_type": "execute_result"
    }
   ],
   "source": [
    "v"
   ]
  },
  {
   "cell_type": "code",
   "execution_count": 17,
   "id": "7f885a2e",
   "metadata": {},
   "outputs": [],
   "source": [
    "w = [ b + d for b,d in zip(dw,v)]"
   ]
  },
  {
   "cell_type": "code",
   "execution_count": 18,
   "id": "1042fc32",
   "metadata": {},
   "outputs": [
    {
     "data": {
      "text/plain": [
       "[array([[0.01260526, 1.43721625]]),\n",
       " array([[2.05631543, 0.56851509, 1.23363491]])]"
      ]
     },
     "execution_count": 18,
     "metadata": {},
     "output_type": "execute_result"
    }
   ],
   "source": [
    "w"
   ]
  },
  {
   "cell_type": "code",
   "execution_count": 19,
   "id": "ca6ce145",
   "metadata": {},
   "outputs": [
    {
     "data": {
      "text/plain": [
       "(1, 2)"
      ]
     },
     "execution_count": 19,
     "metadata": {},
     "output_type": "execute_result"
    }
   ],
   "source": [
    "a.shape"
   ]
  },
  {
   "cell_type": "code",
   "execution_count": 20,
   "id": "3185fa6b",
   "metadata": {},
   "outputs": [
    {
     "data": {
      "text/plain": [
       "array([[0., 0.]])"
      ]
     },
     "execution_count": 20,
     "metadata": {},
     "output_type": "execute_result"
    }
   ],
   "source": [
    "np.zeros(a.shape)"
   ]
  },
  {
   "cell_type": "code",
   "execution_count": 21,
   "id": "0e01256b",
   "metadata": {},
   "outputs": [],
   "source": [
    "k = [np.zeros(w.shape) for w in dw]"
   ]
  },
  {
   "cell_type": "code",
   "execution_count": 22,
   "id": "f6580576",
   "metadata": {},
   "outputs": [
    {
     "data": {
      "text/plain": [
       "[array([[0., 0.]]), array([[0., 0., 0.]])]"
      ]
     },
     "execution_count": 22,
     "metadata": {},
     "output_type": "execute_result"
    }
   ],
   "source": [
    "k"
   ]
  },
  {
   "cell_type": "code",
   "execution_count": null,
   "id": "3dc3c3d2",
   "metadata": {},
   "outputs": [],
   "source": []
  }
 ],
 "metadata": {
  "kernelspec": {
   "display_name": "Python 3 (ipykernel)",
   "language": "python",
   "name": "python3"
  },
  "language_info": {
   "codemirror_mode": {
    "name": "ipython",
    "version": 3
   },
   "file_extension": ".py",
   "mimetype": "text/x-python",
   "name": "python",
   "nbconvert_exporter": "python",
   "pygments_lexer": "ipython3",
   "version": "3.7.11"
  },
  "toc": {
   "base_numbering": 1,
   "nav_menu": {},
   "number_sections": true,
   "sideBar": true,
   "skip_h1_title": false,
   "title_cell": "Table of Contents",
   "title_sidebar": "Contents",
   "toc_cell": false,
   "toc_position": {},
   "toc_section_display": true,
   "toc_window_display": false
  }
 },
 "nbformat": 4,
 "nbformat_minor": 5
}

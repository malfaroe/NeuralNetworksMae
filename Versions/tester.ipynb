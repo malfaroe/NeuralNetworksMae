{
 "cells": [
  {
   "cell_type": "code",
   "execution_count": 1,
   "id": "6407057b",
   "metadata": {},
   "outputs": [],
   "source": [
    "import pandas as pd\n",
    "import numpy as np\n",
    "from sklearn.model_selection import train_test_split\n",
    "from sklearn import preprocessing\n",
    "from sklearn import datasets\n",
    "import matplotlib.pyplot as plt\n",
    "\n",
    "\"\"\"Unit for testing the versions and engines of my network\"\"\""
   ]
  },
  {
   "cell_type": "code",
   "execution_count": 19,
   "id": "6238e8d1",
   "metadata": {},
   "outputs": [],
   "source": [
    "import networkV1 as nn\n",
    "from networkV1 import *\n",
    "\n",
    "#Load data\n",
    "\n",
    "X, y = datasets.make_classification(n_samples = 500000, n_features = 8,n_redundant=0,n_informative= 5,\n",
    "                                      n_classes = 2)\n",
    "\n",
    "#Split data into train, test and val\n",
    "X_train, X_test, y_train, y_test = train_test_split(X, y, test_size=0.3, random_state=1)\n",
    "\n",
    "X_train, X_val, y_train, y_val  = train_test_split(X_train, y_train, test_size=0.3, random_state=1)\n",
    "\n",
    "#Scaling data\n",
    "scaler = preprocessing.StandardScaler()\n",
    "X_train = scaler.fit_transform(X_train)\n",
    "X_test = scaler.transform(X_test)\n",
    "X_val = scaler.transform(X_val)\n",
    "\n",
    "#Architecture\n",
    "sizes2 = [8, 200,2]\n",
    "EPOCHS = 150\n",
    "\n",
    "net1 = nn.Dense(sizes2, activations = [Sigmoid(), Softmax()], Loss = MSE(),\n",
    "            epochs = EPOCHS, metric = Accuracy(), learning_rate = 0.05)\n",
    "        \n",
    "net2 = nn.Dense(sizes2, activations = [Sigmoid(), Softmax()], Loss = CategoricalCrossEntropyLoss(),\n",
    "            epochs = EPOCHS, metric = Accuracy(), learning_rate = 0.05)"
   ]
  },
  {
   "cell_type": "code",
   "execution_count": null,
   "id": "4a87f723",
   "metadata": {},
   "outputs": [],
   "source": [
    "net1.MomentumGD(X_train, y_train, X_test, y_test, beta = 0.9)\n",
    "net1.predict(X_val, y_val)"
   ]
  },
  {
   "cell_type": "code",
   "execution_count": 21,
   "id": "3dc04c90",
   "metadata": {},
   "outputs": [
    {
     "data": {
      "text/plain": [
       "0.9770530612244898"
      ]
     },
     "execution_count": 21,
     "metadata": {},
     "output_type": "execute_result"
    }
   ],
   "source": [
    "from sklearn.neural_network import MLPClassifier\n",
    "\n",
    "clf = MLPClassifier(random_state=1, max_iter=150).fit(X_train, y_train)\n",
    "clf.score(X_train, y_train)"
   ]
  },
  {
   "cell_type": "code",
   "execution_count": 22,
   "id": "da488357",
   "metadata": {},
   "outputs": [
    {
     "data": {
      "text/plain": [
       "0.9762"
      ]
     },
     "execution_count": 22,
     "metadata": {},
     "output_type": "execute_result"
    }
   ],
   "source": [
    "clf.score(X_test, y_test)\n"
   ]
  },
  {
   "cell_type": "code",
   "execution_count": 8,
   "id": "90e069b5",
   "metadata": {},
   "outputs": [],
   "source": [
    "import networkV2 as nn\n",
    "from networkV2 import *\n",
    "\n",
    "#Load data\n",
    "\n",
    "X, y = datasets.make_classification(n_samples = 5000, n_features = 8,n_redundant=0,n_informative= 5,\n",
    "                                      n_classes = 2)\n",
    "\n",
    "#Split data into train, test and val\n",
    "X_train, X_test, y_train, y_test = train_test_split(X, y, test_size=0.3, random_state=1)\n",
    "\n",
    "X_train, X_val, y_train, y_val  = train_test_split(X_train, y_train, test_size=0.3, random_state=1)\n",
    "\n",
    "#Scaling data\n",
    "scaler = preprocessing.StandardScaler()\n",
    "X_train = scaler.fit_transform(X_train)\n",
    "X_test = scaler.transform(X_test)\n",
    "X_val = scaler.transform(X_val)\n",
    "\n",
    "#Architecture\n",
    "sizes2 = [8, 200,2]\n",
    "EPOCHS = 150\n",
    "\n",
    "net1 = nn.Dense(sizes2, activations = [Sigmoid(), Softmax()], Loss = MSE(),\n",
    "            epochs = EPOCHS, metric = Accuracy(), learning_rate = 0.05)\n",
    "        \n",
    "net2 = nn.Dense(sizes2, activations = [Sigmoid(), Softmax()], Loss = CategoricalCrossEntropyLoss(),\n",
    "            epochs = EPOCHS, metric = Accuracy(), learning_rate = 0.05)"
   ]
  },
  {
   "cell_type": "code",
   "execution_count": 9,
   "id": "87c9b047",
   "metadata": {},
   "outputs": [
    {
     "name": "stdout",
     "output_type": "stream",
     "text": [
      "Adam Training......\n",
      "Error epoch 50: 0.2283259282580485--- Accuracy: 0.9096\n",
      "Accuracy in test set: 0.9106666666666666\n",
      "Error epoch 100: 0.1878530097132089--- Accuracy: 0.9348\n",
      "Accuracy in test set: 0.9366666666666666\n",
      "Error epoch 150: 0.18013662772716388--- Accuracy: 0.9372\n",
      "Accuracy in test set: 0.944\n",
      "Initial loss: 0.9505941493823462\n",
      "Final loss after 150 iterations: 0.18013662772716388\n"
     ]
    },
    {
     "data": {
      "image/png": "[encoded data removed]",
      "text/plain": [
       "<Figure size 432x288 with 1 Axes>"
      ]
     },
     "metadata": {
      "needs_background": "light"
     },
     "output_type": "display_data"
    },
    {
     "name": "stdout",
     "output_type": "stream",
     "text": [
      "Training complete!\n"
     ]
    }
   ],
   "source": [
    "net2.ADAM(X, y, X_test, y_test, beta1=0.9, beta2=0.999, epsilon=1e-8)"
   ]
  },
  {
   "cell_type": "code",
   "execution_count": null,
   "id": "7afa7e37",
   "metadata": {},
   "outputs": [],
   "source": []
  }
 ],
 "metadata": {
  "kernelspec": {
   "display_name": "Python 3",
   "language": "python",
   "name": "python3"
  },
  "language_info": {
   "codemirror_mode": {
    "name": "ipython",
    "version": 3
   },
   "file_extension": ".py",
   "mimetype": "text/x-python",
   "name": "python",
   "nbconvert_exporter": "python",
   "pygments_lexer": "ipython3",
   "version": "3.7.7"
  },
  "toc": {
   "base_numbering": 1,
   "nav_menu": {},
   "number_sections": true,
   "sideBar": true,
   "skip_h1_title": false,
   "title_cell": "Table of Contents",
   "title_sidebar": "Contents",
   "toc_cell": false,
   "toc_position": {},
   "toc_section_display": true,
   "toc_window_display": false
  }
 },
 "nbformat": 4,
 "nbformat_minor": 5
}
